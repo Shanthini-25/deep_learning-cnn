{
  "nbformat": 4,
  "nbformat_minor": 0,
  "metadata": {
    "colab": {
      "provenance": []
    },
    "kernelspec": {
      "name": "python3",
      "display_name": "Python 3"
    },
    "language_info": {
      "name": "python"
    }
  },
  "cells": [
    {
      "cell_type": "code",
      "execution_count": 1,
      "metadata": {
        "colab": {
          "base_uri": "https://localhost:8080/"
        },
        "id": "rAwrvHNavJ5n",
        "outputId": "f5e6a79f-04ce-4017-cd8a-ca70f746f115"
      },
      "outputs": [
        {
          "output_type": "stream",
          "name": "stdout",
          "text": [
            "Downloading data from https://storage.googleapis.com/tensorflow/tf-keras-datasets/mnist.npz\n",
            "11490434/11490434 [==============================] - 1s 0us/step\n",
            "Epoch 1/10\n",
            "300/300 [==============================] - 35s 114ms/step - loss: 0.2577 - accuracy: 0.9250 - val_loss: 0.0920 - val_accuracy: 0.9724\n",
            "Epoch 2/10\n",
            "300/300 [==============================] - 32s 108ms/step - loss: 0.0776 - accuracy: 0.9771 - val_loss: 0.0539 - val_accuracy: 0.9823\n",
            "Epoch 3/10\n",
            "300/300 [==============================] - 33s 108ms/step - loss: 0.0547 - accuracy: 0.9834 - val_loss: 0.0444 - val_accuracy: 0.9855\n",
            "Epoch 4/10\n",
            "300/300 [==============================] - 33s 109ms/step - loss: 0.0410 - accuracy: 0.9876 - val_loss: 0.0398 - val_accuracy: 0.9868\n",
            "Epoch 5/10\n",
            "300/300 [==============================] - 33s 108ms/step - loss: 0.0340 - accuracy: 0.9894 - val_loss: 0.0365 - val_accuracy: 0.9896\n",
            "Epoch 6/10\n",
            "300/300 [==============================] - 33s 109ms/step - loss: 0.0300 - accuracy: 0.9904 - val_loss: 0.0345 - val_accuracy: 0.9901\n",
            "Epoch 7/10\n",
            "300/300 [==============================] - 34s 114ms/step - loss: 0.0241 - accuracy: 0.9925 - val_loss: 0.0343 - val_accuracy: 0.9893\n",
            "Epoch 8/10\n",
            "300/300 [==============================] - 33s 110ms/step - loss: 0.0210 - accuracy: 0.9934 - val_loss: 0.0388 - val_accuracy: 0.9878\n",
            "Epoch 9/10\n",
            "300/300 [==============================] - 33s 109ms/step - loss: 0.0189 - accuracy: 0.9940 - val_loss: 0.0343 - val_accuracy: 0.9897\n",
            "Epoch 10/10\n",
            "300/300 [==============================] - 33s 109ms/step - loss: 0.0154 - accuracy: 0.9951 - val_loss: 0.0330 - val_accuracy: 0.9893\n",
            "CNN Error: 1.07%\n"
          ]
        }
      ],
      "source": [
        "from tensorflow.keras.datasets import mnist\n",
        "from tensorflow.keras.models import Sequential\n",
        "from tensorflow.keras.layers import Dense\n",
        "from tensorflow.keras.layers import Dropout\n",
        "from tensorflow.keras.layers import Flatten\n",
        "from tensorflow.keras.layers import Conv2D\n",
        "from tensorflow.keras.layers import MaxPooling2D\n",
        "from tensorflow.keras.utils import to_categorical\n",
        "# load data\n",
        "(X_train, y_train), (X_test, y_test) = mnist.load_data()\n",
        "# reshape to be [samples][width][height][channels]\n",
        "X_train = X_train.reshape((X_train.shape[0], 28, 28, 1)).astype('float32')\n",
        "X_test = X_test.reshape((X_test.shape[0], 28, 28, 1)).astype('float32')\n",
        "# normalize inputs from 0-255 to 0-1\n",
        "X_train = X_train / 255\n",
        "X_test = X_test / 255\n",
        "# one hot encode outputs\n",
        "y_train = to_categorical(y_train)\n",
        "y_test = to_categorical(y_test)\n",
        "num_classes = y_test.shape[1]\n",
        "# define a simple CNN model\n",
        "def baseline_model():\n",
        " # create model\n",
        " model = Sequential()\n",
        " model.add(Conv2D(32, (5, 5), input_shape=(28, 28, 1), activation='relu'))\n",
        " model.add(MaxPooling2D())\n",
        " model.add(Dropout(0.2))\n",
        " model.add(Flatten())\n",
        " model.add(Dense(128, activation='relu'))\n",
        " model.add(Dense(num_classes, activation='softmax'))\n",
        " # Compile model\n",
        " model.compile(loss='categorical_crossentropy', optimizer='adam', metrics=['accuracy'])\n",
        " return model\n",
        "# build the model\n",
        "model = baseline_model()\n",
        "# Fit the model\n",
        "model.fit(X_train, y_train, validation_data=(X_test, y_test), epochs=10, batch_size=200)\n",
        "# Final evaluation of the model\n",
        "scores = model.evaluate(X_test, y_test, verbose=0)\n",
        "print(\"CNN Error: %.2f%%\" % (100-scores[1]*100))"
      ]
    },
    {
      "cell_type": "code",
      "source": [],
      "metadata": {
        "id": "8-bE5lngvKef"
      },
      "execution_count": null,
      "outputs": []
    }
  ]
}
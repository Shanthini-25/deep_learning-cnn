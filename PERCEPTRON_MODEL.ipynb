{
  "nbformat": 4,
  "nbformat_minor": 0,
  "metadata": {
    "colab": {
      "provenance": []
    },
    "kernelspec": {
      "name": "python3",
      "display_name": "Python 3"
    },
    "language_info": {
      "name": "python"
    }
  },
  "cells": [
    {
      "cell_type": "code",
      "execution_count": 1,
      "metadata": {
        "colab": {
          "base_uri": "https://localhost:8080/"
        },
        "id": "txLhlLJ-nLyp",
        "outputId": "6b30168c-e2d3-49f8-cb45-f13136c6c86c"
      },
      "outputs": [
        {
          "output_type": "stream",
          "name": "stdout",
          "text": [
            "Downloading data from https://storage.googleapis.com/tensorflow/tf-keras-datasets/mnist.npz\n",
            "11490434/11490434 [==============================] - 0s 0us/step\n",
            "Epoch 1/10\n",
            "300/300 - 10s - loss: 0.2806 - accuracy: 0.9213 - val_loss: 0.1561 - val_accuracy: 0.9519 - 10s/epoch - 32ms/step\n",
            "Epoch 2/10\n",
            "300/300 - 6s - loss: 0.1095 - accuracy: 0.9683 - val_loss: 0.0950 - val_accuracy: 0.9724 - 6s/epoch - 22ms/step\n",
            "Epoch 3/10\n",
            "300/300 - 4s - loss: 0.0713 - accuracy: 0.9790 - val_loss: 0.0888 - val_accuracy: 0.9727 - 4s/epoch - 13ms/step\n",
            "Epoch 4/10\n",
            "300/300 - 4s - loss: 0.0499 - accuracy: 0.9860 - val_loss: 0.0717 - val_accuracy: 0.9785 - 4s/epoch - 13ms/step\n",
            "Epoch 5/10\n",
            "300/300 - 4s - loss: 0.0366 - accuracy: 0.9896 - val_loss: 0.0679 - val_accuracy: 0.9791 - 4s/epoch - 12ms/step\n",
            "Epoch 6/10\n",
            "300/300 - 4s - loss: 0.0259 - accuracy: 0.9928 - val_loss: 0.0626 - val_accuracy: 0.9804 - 4s/epoch - 13ms/step\n",
            "Epoch 7/10\n",
            "300/300 - 4s - loss: 0.0190 - accuracy: 0.9952 - val_loss: 0.0604 - val_accuracy: 0.9815 - 4s/epoch - 13ms/step\n",
            "Epoch 8/10\n",
            "300/300 - 4s - loss: 0.0146 - accuracy: 0.9963 - val_loss: 0.0642 - val_accuracy: 0.9806 - 4s/epoch - 13ms/step\n",
            "Epoch 9/10\n",
            "300/300 - 4s - loss: 0.0106 - accuracy: 0.9978 - val_loss: 0.0570 - val_accuracy: 0.9833 - 4s/epoch - 13ms/step\n",
            "Epoch 10/10\n",
            "300/300 - 4s - loss: 0.0082 - accuracy: 0.9984 - val_loss: 0.0632 - val_accuracy: 0.9814 - 4s/epoch - 13ms/step\n",
            "Baseline Error: 1.86%\n"
          ]
        }
      ],
      "source": [
        "# Baseline MLP for MNIST dataset\n",
        "from tensorflow.keras.datasets import mnist\n",
        "from tensorflow.keras.models import Sequential\n",
        "from tensorflow.keras.layers import Dense\n",
        "from tensorflow.keras.utils import to_categorical\n",
        "# load data\n",
        "(X_train, y_train), (X_test, y_test) = mnist.load_data()\n",
        "# flatten 28*28 images to a 784 vector for each image\n",
        "num_pixels = X_train.shape[1] * X_train.shape[2]\n",
        "X_train = X_train.reshape((X_train.shape[0], num_pixels)).astype('float32')\n",
        "X_test = X_test.reshape((X_test.shape[0], num_pixels)).astype('float32')\n",
        "# normalize inputs from 0-255 to 0-1\n",
        "X_train = X_train / 255\n",
        "X_test = X_test / 255\n",
        "# one hot encode outputs\n",
        "y_train = to_categorical(y_train)\n",
        "y_test = to_categorical(y_test)\n",
        "num_classes = y_test.shape[1]\n",
        "# define baseline model\n",
        "def baseline_model():\n",
        " # create model\n",
        " model = Sequential()\n",
        " model.add(Dense(num_pixels, input_shape=(num_pixels,), kernel_initializer='normal', activation='relu'))\n",
        " model.add(Dense(num_classes, kernel_initializer='normal', activation='softmax'))\n",
        " # Compile model\n",
        " model.compile(loss='categorical_crossentropy', optimizer='adam', metrics=['accuracy'])\n",
        " return model\n",
        "# build the model\n",
        "model = baseline_model()\n",
        "# Fit the model\n",
        "model.fit(X_train, y_train, validation_data=(X_test, y_test), epochs=10, batch_size=200, verbose=2)\n",
        "# Final evaluation of the model\n",
        "scores = model.evaluate(X_test, y_test, verbose=0)\n",
        "print(\"Baseline Error: %.2f%%\" % (100-scores[1]*100))\n"
      ]
    },
    {
      "cell_type": "code",
      "source": [],
      "metadata": {
        "id": "lvXqvMXhnNve"
      },
      "execution_count": null,
      "outputs": []
    }
  ]
}